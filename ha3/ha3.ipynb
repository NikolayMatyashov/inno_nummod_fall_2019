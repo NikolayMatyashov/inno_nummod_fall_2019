{
  "nbformat": 4,
  "nbformat_minor": 0,
  "metadata": {
    "kernelspec": {
      "display_name": "Python 3",
      "language": "python",
      "name": "python3"
    },
    "language_info": {
      "codemirror_mode": {
        "name": "ipython",
        "version": 3
      },
      "file_extension": ".py",
      "mimetype": "text/x-python",
      "name": "python",
      "nbconvert_exporter": "python",
      "pygments_lexer": "ipython3",
      "version": "3.6.8"
    },
    "colab": {
      "name": "ha_3.ipynb",
      "provenance": [],
      "collapsed_sections": []
    }
  },
  "cells": [
    {
      "cell_type": "code",
      "metadata": {
        "id": "NnVf2Z8OmZKv",
        "colab_type": "code",
        "colab": {}
      },
      "source": [
        "import sympy as sp\n",
        "import numpy as np\n",
        "import matplotlib.pyplot as plt"
      ],
      "execution_count": 0,
      "outputs": []
    },
    {
      "cell_type": "markdown",
      "metadata": {
        "id": "pFqGeReRmZK5",
        "colab_type": "text"
      },
      "source": [
        "### 1. Derive formula of $L_{2}(x)$ in terms of interpolation phase $ u = \\frac{x - x_{i}}{h} $.  Integrate $ \\hat{I_{i}^{i+2}}$ with received formula as integrand  [mathematical formula]. Usetimation time: ~30m"
      ]
    },
    {
      "cell_type": "markdown",
      "metadata": {
        "id": "wJ281EtEmZK8",
        "colab_type": "text"
      },
      "source": [
        "**Note** Use constant step $h = const$ and condition *number of segments is even* $n = 2k$"
      ]
    },
    {
      "cell_type": "markdown",
      "metadata": {
        "id": "pgHllMhDmZK_",
        "colab_type": "text"
      },
      "source": [
        "Lagrange polynomial for 3 dots:\n",
        "\n",
        "$\n",
        "L_2(x) = \\frac {(x-x_{i+1})(x-x_{i+2})} {(x_i-x_{i+1})(x_i-x_{i+2})}*f_i + \\frac {(x-x_{i})(x-x_{i+2})} {(x_{i+1}-x_{i})(x_{i+1}-x_{i+2})}*f_{i+1} + \\frac {(x-x_{i})(x-x_{i+1})} {(x_{i+2}-x_{i})(x_{i+2}-x_{i+1})}*f_{i+2}\n",
        "$\n",
        "\n",
        "Knowing that (step is $h$):\n",
        "\n",
        "$\n",
        "x - x_{i} = uh \\\\\n",
        "x_i - x_{i+1} = -h \\\\\n",
        "x_i - x_{i+2} = -2h \\\\\n",
        "$\n",
        "\n",
        "Let's simplify fractions for every dot using above data:\n",
        "\n",
        "$\n",
        "\\frac {(x-x_{i+1})(x-x_{i+2})} {(x_i-x_{i+1})(x_i-x_{i+2})} = \\frac {(x-x_i+x_i-x_{i+1})(x-x_i+x_i-x_{i+2})} {(x_i-x_{i+1})(x_i-x_{i+2})} = \\frac {(uh-h)(uh-2h)} {(-h)(-2h)} = \\frac {(u-1)(u-2)} {2}\n",
        "$\n",
        "\n",
        "$\n",
        "\\frac {(x-x_{i})(x-x_{i+2})} {(x_{i+1}-x_{i})(x_{i+1}-x_{i+2})} = \\frac {uh(uh-2h)} {h(-h)} = (-{u(u-2)})\n",
        "$\n",
        "\n",
        "$\n",
        "\\frac {(x-x_{i})(x-x_{i+1})} {(x_{i+2}-x_{i})(x_{i+2}-x_{i+1})} = \\frac {uh(uh-h)} {2h*h} = \\frac {u(u-1)} {2}\n",
        "$\n",
        "\n",
        "Substitute and integrate:\n",
        "\n",
        "$\n",
        "  \\int\\limits_{x_i}^{x_{i+2}} L_2(x)h  \\mathrm{d} u = \\int\\limits_{x_i}^{x_{i+2}} (f_i \\frac {(u-1)(u-2)} {2} - f_{i+1} u(u-2) + f_{i+2} \\frac {u(u-1)} {2}) h  \\mathrm{d} u = \\int\\limits_{x_i}^{x_{i+2}} (f_i \\frac {(u^2-3u+2)} {2}-f_{i+1}u^2+f_{i+1}2u + f_{i+2} \\frac {u^2-u} {2}) h  \\mathrm{d} u = (f_i(\\frac {u^3} {6} - \\frac {3u^2} {4} + u) - f_{i+1}(\\frac {u^3} {3} - u^2) + f_{i+2}(\\frac {u^3} {6} - \\frac {u^2} {4}))h_{x_i}^{x_{i+2}} = \\frac {h} {3} (f_i+4f_{i+1} + f_{i+2})\n",
        "$"
      ]
    },
    {
      "cell_type": "markdown",
      "metadata": {
        "id": "IAXZH9FcmZLC",
        "colab_type": "text"
      },
      "source": [
        "### 2. Explain how used condition $n = 2k$ helps us in integration. If we want to use odd number of segments we have to integrate with even number of segments but add the value $I_{n-1}^n$. What is the calculation accuracy order of $I_{n-1}^n$? Why? Explain both. [mathematical formula]. Usetimation time: ~30m"
      ]
    },
    {
      "cell_type": "markdown",
      "metadata": {
        "id": "8kX9aJXXmZLE",
        "colab_type": "text"
      },
      "source": [
        "Condition  $n=2k$  helps us in integration in the case that we have segments that use 3 points (2 simple segments), so we can easily calculate $\\hat{I}_{a}^{b}$. When we have odd number of segments we need to calculate last segment: $\\hat{I}_{n-1}^{n}$:\n",
        "\n",
        "$\\hat{I}_{n-1}^{n} = \\hat{I}_{n-3}^{n} - \\hat{I}_{n-3}^{n-1}$\n",
        "\n",
        "$O(\\hat{I}_{n-3}^{n}) = O(\\hat{I}_{n-3}^{n-1}) = O(h^5)$\n",
        "\n",
        "Thus, $O(\\hat{I}_{n-1}^{n}) = O(h^5)$\n"
      ]
    },
    {
      "cell_type": "markdown",
      "metadata": {
        "id": "0jkcgxjgmZLG",
        "colab_type": "text"
      },
      "source": [
        "### 3. Derive the formula of whole $\\hat{I_{a}^{b}}$. Summarize all integrals on segments $\\hat{I_{i}^{i+1}}$ for even case, and for odd case. [mathematical formula]. Usetimation time: ~30m"
      ]
    },
    {
      "cell_type": "markdown",
      "metadata": {
        "id": "KlFZNd7hmZLJ",
        "colab_type": "text"
      },
      "source": [
        "For even case ($n = 2k$):\n",
        "\n",
        "$\n",
        "\\hat{I}_{a}^{b} = \\sum^{k - 1}_{i = 0}\\hat{I}_{2i}^{2i + 1}\n",
        "= \\sum^{k - 1}_{i = 0}\\frac {h} {3} (f_{2i} + 4f_{2i+1} + f_{2i+2})\n",
        "= \\frac {h} {3}(f_0 + 4\\sum^{k - \\frac{1} {2}}_{i = \\frac {1} {2}} f_{2i} + 2\\sum^{k - 1}_{i = 1}f_{2i} + f_{n})\n",
        "$\n",
        "\n",
        "For odd case ($n = 2k + 1$):\n",
        "\n",
        "$\n",
        "\\hat{I}_{a}^{b} = {\\sum_{i=0}^{k-1} \\hat{I}_{2i}^{2(i+1)}} + \\hat{I}_{2k}^{2k+1} = \\frac {h} {3} (f_0 + 4{\\sum \\limits_{i=0.5}^{k-0.5}f_{2i}} + 2{\\sum \\limits_{i=1}^{k-1}f_{2i}} + f_{2k}) + h\\frac {f_{n-1} + f_n} {2}\n",
        "$\n",
        "\n",
        "\n",
        "\n",
        "\n",
        "\n",
        "\n",
        "\n",
        "\n"
      ]
    },
    {
      "cell_type": "markdown",
      "metadata": {
        "id": "LDkxDM_emZLL",
        "colab_type": "text"
      },
      "source": [
        "### 4. Derive the formula of trapezoid quadrature formula error estimation. Use Taylor series expansion for antiderivative $F_{i+1}$ and $f_{i+1}$  [mathematical formula] Usetimation time: ~30m"
      ]
    },
    {
      "cell_type": "markdown",
      "metadata": {
        "id": "lOeiZ51-mZLN",
        "colab_type": "text"
      },
      "source": [
        "$\n",
        "F_{i+1} = F_{i} + hf_{i} + \\frac{h^2}{2}f'_{i} + \\frac{h^3}{6}f''(\\xi_i)\n",
        "$\n",
        "\n",
        "$\n",
        "f_{i+1} = f_{i} + hf'_{i} + \\frac{h^2}{2}f''({\\xi_i})\n",
        "$\n",
        "\n",
        "$\n",
        "I_{i}^{i+1} - \\hat{I}_{i}^{i+1} = (F_{i+1} - F_i) - \\frac{h}{2}(f_i + f_{i+1}) = F_{i} + hf_{i} + \\frac{h^2}{2}f'_{i} + \\frac{h^3}{6}f''(\\xi_i) - F_{i} - \\frac{h}{2}(f_{i} + f_{i} + hf'{i} + \\frac{h^2}{2}f''({\\xi_i})) = \n",
        "hf_{i} + \\frac{h^2}{2}f'_{i} + \\frac{h^3}{6}f''(\\xi_i) - \\frac{h}{2}(f_{i} + f_{i} + hf'{i} + \\frac{h^2}{2}f''({\\xi_i})) = hf_{i} + \\frac{h^2}{2}f'_{i} + \\frac{h^3}{6}f''(\\xi_i) - hf_{i} - \\frac{h^2}{2}f'_{i} - \\frac{h^3}{4}f''({\\xi_i}) = \\frac{h^3}{6}f''(\\xi_i) - \\frac{h^3}{4}f''({\\xi_i}) = -\\frac{h^3}{12}f''(\\xi_i)\n",
        "$\n",
        "\n",
        "$\n",
        "f''(\\xi_i)$ is bounded by $max_{[x_{i}, x_{i+1}]}|f''(x)|\n",
        "$\n",
        "\n",
        "Thus:\n",
        "\n",
        "$\n",
        "M_{2,i} = max_{[x_{i}, x_{i+1}]}|f''(x)|\\\\\n",
        "\\big{|}I_{i}^{i+1} - \\hat{I}_{i}^{i+1}\\big{|} \\le \\frac{M_{2,i}}{12}h^3\n",
        "$\n",
        "\n",
        "\n",
        "\n"
      ]
    },
    {
      "cell_type": "markdown",
      "metadata": {
        "id": "cwVajmzFmZLP",
        "colab_type": "text"
      },
      "source": [
        "### Congrats!"
      ]
    }
  ]
}